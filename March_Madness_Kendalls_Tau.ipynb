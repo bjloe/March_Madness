{
 "cells": [
  {
   "cell_type": "markdown",
   "metadata": {},
   "source": [
    "# March Madness and Analytics:\n",
    "## How Strongly Related are the Ratings of the Men's and Women's Teams?\n",
    "\n",
    "We were watching the first weekend of the NCAA Division 1 Basketball Tournaments, switching back and forth between the men \n",
    "and the women. My wife asked, \"Doesn't it seem like we're watching teams from the same schools? If a school has a strong\n",
    "men's team, does it usually have a strong women's team too?\"\n",
    "\n",
    "I took that as a challenge!"
   ]
  },
  {
   "cell_type": "code",
   "execution_count": 1,
   "metadata": {},
   "outputs": [],
   "source": [
    "import pandas as pd\n",
    "import numpy as np"
   ]
  },
  {
   "cell_type": "code",
   "execution_count": 2,
   "metadata": {},
   "outputs": [],
   "source": [
    "import matplotlib.pyplot as plt"
   ]
  },
  {
   "cell_type": "code",
   "execution_count": 3,
   "metadata": {},
   "outputs": [],
   "source": [
    "import seaborn as sns"
   ]
  },
  {
   "cell_type": "markdown",
   "metadata": {},
   "source": [
    "The Massey Ratings the csv files `Massey_men_d1.csv` and `Massey_women_d1.csv` which were downloaded \n",
    "from [here](https://www.masseyratings.com/cb/ncaa-d1/ratings) for the men and\n",
    "from [here](https://www.masseyratings.com/cbw/ncaa-d1/ratings) for the women. The \"Rating\" is a continuous \n",
    "numerical variable, but it is accompanied by a ranking of those values. We are interested in the ranking. \n",
    "We load those in the following cell.  "
   ]
  },
  {
   "cell_type": "code",
   "execution_count": 4,
   "metadata": {},
   "outputs": [],
   "source": [
    "df_mens_ratings = pd.read_csv('Massey_men_d1.csv',usecols=['Team','Rat'],index_col='Team')\\\n",
    ".rename(columns={'Rat':'Ranking'})\n",
    "\n",
    "df_womens_ratings = pd.read_csv('Massey_women_d1.csv',usecols=['Team','Rat'],index_col='Team')\\\n",
    ".rename(columns={'Rat':'Ranking'})"
   ]
  },
  {
   "cell_type": "code",
   "execution_count": 5,
   "metadata": {},
   "outputs": [
    {
     "data": {
      "text/html": [
       "<div>\n",
       "<style scoped>\n",
       "    .dataframe tbody tr th:only-of-type {\n",
       "        vertical-align: middle;\n",
       "    }\n",
       "\n",
       "    .dataframe tbody tr th {\n",
       "        vertical-align: top;\n",
       "    }\n",
       "\n",
       "    .dataframe thead th {\n",
       "        text-align: right;\n",
       "    }\n",
       "</style>\n",
       "<table border=\"1\" class=\"dataframe\">\n",
       "  <thead>\n",
       "    <tr style=\"text-align: right;\">\n",
       "      <th></th>\n",
       "      <th>Ranking</th>\n",
       "    </tr>\n",
       "    <tr>\n",
       "      <th>Team</th>\n",
       "      <th></th>\n",
       "    </tr>\n",
       "  </thead>\n",
       "  <tbody>\n",
       "    <tr>\n",
       "      <th>Iowa</th>\n",
       "      <td>5</td>\n",
       "    </tr>\n",
       "    <tr>\n",
       "      <th>Arkansas</th>\n",
       "      <td>10</td>\n",
       "    </tr>\n",
       "    <tr>\n",
       "      <th>Kentucky</th>\n",
       "      <td>61</td>\n",
       "    </tr>\n",
       "    <tr>\n",
       "      <th>UCF</th>\n",
       "      <td>89</td>\n",
       "    </tr>\n",
       "    <tr>\n",
       "      <th>Kennesaw</th>\n",
       "      <td>332</td>\n",
       "    </tr>\n",
       "  </tbody>\n",
       "</table>\n",
       "</div>"
      ],
      "text/plain": [
       "          Ranking\n",
       "Team             \n",
       "Iowa            5\n",
       "Arkansas       10\n",
       "Kentucky       61\n",
       "UCF            89\n",
       "Kennesaw      332"
      ]
     },
     "execution_count": 5,
     "metadata": {},
     "output_type": "execute_result"
    }
   ],
   "source": [
    "df_mens_ratings.sample(5).sort_values('Ranking')"
   ]
  },
  {
   "cell_type": "code",
   "execution_count": 6,
   "metadata": {},
   "outputs": [
    {
     "data": {
      "text/html": [
       "<div>\n",
       "<style scoped>\n",
       "    .dataframe tbody tr th:only-of-type {\n",
       "        vertical-align: middle;\n",
       "    }\n",
       "\n",
       "    .dataframe tbody tr th {\n",
       "        vertical-align: top;\n",
       "    }\n",
       "\n",
       "    .dataframe thead th {\n",
       "        text-align: right;\n",
       "    }\n",
       "</style>\n",
       "<table border=\"1\" class=\"dataframe\">\n",
       "  <thead>\n",
       "    <tr style=\"text-align: right;\">\n",
       "      <th></th>\n",
       "      <th>Ranking</th>\n",
       "    </tr>\n",
       "    <tr>\n",
       "      <th>Team</th>\n",
       "      <th></th>\n",
       "    </tr>\n",
       "  </thead>\n",
       "  <tbody>\n",
       "    <tr>\n",
       "      <th>Ohio</th>\n",
       "      <td>86</td>\n",
       "    </tr>\n",
       "    <tr>\n",
       "      <th>Montana</th>\n",
       "      <td>223</td>\n",
       "    </tr>\n",
       "    <tr>\n",
       "      <th>Wofford</th>\n",
       "      <td>256</td>\n",
       "    </tr>\n",
       "    <tr>\n",
       "      <th>Cent Arkansas</th>\n",
       "      <td>268</td>\n",
       "    </tr>\n",
       "    <tr>\n",
       "      <th>Monmouth NJ</th>\n",
       "      <td>337</td>\n",
       "    </tr>\n",
       "  </tbody>\n",
       "</table>\n",
       "</div>"
      ],
      "text/plain": [
       "               Ranking\n",
       "Team                  \n",
       "Ohio                86\n",
       "Montana            223\n",
       "Wofford            256\n",
       "Cent Arkansas      268\n",
       "Monmouth NJ        337"
      ]
     },
     "execution_count": 6,
     "metadata": {},
     "output_type": "execute_result"
    }
   ],
   "source": [
    "df_womens_ratings.sample(5).sort_values('Ranking')"
   ]
  },
  {
   "cell_type": "markdown",
   "metadata": {},
   "source": [
    "The next steps are to join the two dataframes using an outer join to retain all of the teams. However, some schools have only one D-I basketball program; so this introduces some missing values. We fill these in with an artifical number which is one more than the worst ranking of any existing program by gender. "
   ]
  },
  {
   "cell_type": "code",
   "execution_count": 7,
   "metadata": {
    "scrolled": true
   },
   "outputs": [],
   "source": [
    "df_combined = df_mens_ratings.merge(df_womens_ratings,on='Team',how='outer',suffixes=['_Men','_Women'])"
   ]
  },
  {
   "cell_type": "code",
   "execution_count": 8,
   "metadata": {},
   "outputs": [
    {
     "name": "stdout",
     "output_type": "stream",
     "text": [
      "<class 'pandas.core.frame.DataFrame'>\n",
      "Index: 358 entries, Gonzaga to MD E Shore\n",
      "Data columns (total 2 columns):\n",
      " #   Column         Non-Null Count  Dtype  \n",
      "---  ------         --------------  -----  \n",
      " 0   Ranking_Men    347 non-null    float64\n",
      " 1   Ranking_Women  355 non-null    float64\n",
      "dtypes: float64(2)\n",
      "memory usage: 8.4+ KB\n"
     ]
    }
   ],
   "source": [
    "df_combined.info()"
   ]
  },
  {
   "cell_type": "code",
   "execution_count": 9,
   "metadata": {},
   "outputs": [
    {
     "data": {
      "text/html": [
       "<div>\n",
       "<style scoped>\n",
       "    .dataframe tbody tr th:only-of-type {\n",
       "        vertical-align: middle;\n",
       "    }\n",
       "\n",
       "    .dataframe tbody tr th {\n",
       "        vertical-align: top;\n",
       "    }\n",
       "\n",
       "    .dataframe thead th {\n",
       "        text-align: right;\n",
       "    }\n",
       "</style>\n",
       "<table border=\"1\" class=\"dataframe\">\n",
       "  <thead>\n",
       "    <tr style=\"text-align: right;\">\n",
       "      <th></th>\n",
       "      <th>Ranking_Men</th>\n",
       "      <th>Ranking_Women</th>\n",
       "    </tr>\n",
       "    <tr>\n",
       "      <th>Team</th>\n",
       "      <th></th>\n",
       "      <th></th>\n",
       "    </tr>\n",
       "  </thead>\n",
       "  <tbody>\n",
       "    <tr>\n",
       "      <th>VMI</th>\n",
       "      <td>185.0</td>\n",
       "      <td>NaN</td>\n",
       "    </tr>\n",
       "    <tr>\n",
       "      <th>Citadel</th>\n",
       "      <td>216.0</td>\n",
       "      <td>NaN</td>\n",
       "    </tr>\n",
       "    <tr>\n",
       "      <th>TN Martin</th>\n",
       "      <td>325.0</td>\n",
       "      <td>NaN</td>\n",
       "    </tr>\n",
       "    <tr>\n",
       "      <th>Princeton</th>\n",
       "      <td>NaN</td>\n",
       "      <td>58.0</td>\n",
       "    </tr>\n",
       "    <tr>\n",
       "      <th>Mid</th>\n",
       "      <td>NaN</td>\n",
       "      <td>99.0</td>\n",
       "    </tr>\n",
       "    <tr>\n",
       "      <th>Penn</th>\n",
       "      <td>NaN</td>\n",
       "      <td>108.0</td>\n",
       "    </tr>\n",
       "    <tr>\n",
       "      <th>Yale</th>\n",
       "      <td>NaN</td>\n",
       "      <td>121.0</td>\n",
       "    </tr>\n",
       "    <tr>\n",
       "      <th>Harvard</th>\n",
       "      <td>NaN</td>\n",
       "      <td>136.0</td>\n",
       "    </tr>\n",
       "    <tr>\n",
       "      <th>Columbia</th>\n",
       "      <td>NaN</td>\n",
       "      <td>144.0</td>\n",
       "    </tr>\n",
       "    <tr>\n",
       "      <th>Cornell</th>\n",
       "      <td>NaN</td>\n",
       "      <td>176.0</td>\n",
       "    </tr>\n",
       "    <tr>\n",
       "      <th>Dartmouth</th>\n",
       "      <td>NaN</td>\n",
       "      <td>210.0</td>\n",
       "    </tr>\n",
       "    <tr>\n",
       "      <th>Brown</th>\n",
       "      <td>NaN</td>\n",
       "      <td>249.0</td>\n",
       "    </tr>\n",
       "    <tr>\n",
       "      <th>Bethune-Cookman</th>\n",
       "      <td>NaN</td>\n",
       "      <td>262.0</td>\n",
       "    </tr>\n",
       "    <tr>\n",
       "      <th>MD E Shore</th>\n",
       "      <td>NaN</td>\n",
       "      <td>319.0</td>\n",
       "    </tr>\n",
       "  </tbody>\n",
       "</table>\n",
       "</div>"
      ],
      "text/plain": [
       "                 Ranking_Men  Ranking_Women\n",
       "Team                                       \n",
       "VMI                    185.0            NaN\n",
       "Citadel                216.0            NaN\n",
       "TN Martin              325.0            NaN\n",
       "Princeton                NaN           58.0\n",
       "Mid                      NaN           99.0\n",
       "Penn                     NaN          108.0\n",
       "Yale                     NaN          121.0\n",
       "Harvard                  NaN          136.0\n",
       "Columbia                 NaN          144.0\n",
       "Cornell                  NaN          176.0\n",
       "Dartmouth                NaN          210.0\n",
       "Brown                    NaN          249.0\n",
       "Bethune-Cookman          NaN          262.0\n",
       "MD E Shore               NaN          319.0"
      ]
     },
     "execution_count": 9,
     "metadata": {},
     "output_type": "execute_result"
    }
   ],
   "source": [
    "df_combined[df_combined.Ranking_Men.isna() | df_combined.Ranking_Women.isna()]"
   ]
  },
  {
   "cell_type": "code",
   "execution_count": 10,
   "metadata": {},
   "outputs": [],
   "source": [
    "df_combined.Ranking_Women = df_combined.Ranking_Women.fillna(df_combined.Ranking_Women.max() + 1)\n",
    "df_combined.Ranking_Men = df_combined.Ranking_Men.fillna(df_combined.Ranking_Men.max() + 1)"
   ]
  },
  {
   "cell_type": "code",
   "execution_count": 11,
   "metadata": {},
   "outputs": [
    {
     "data": {
      "text/html": [
       "<div>\n",
       "<style scoped>\n",
       "    .dataframe tbody tr th:only-of-type {\n",
       "        vertical-align: middle;\n",
       "    }\n",
       "\n",
       "    .dataframe tbody tr th {\n",
       "        vertical-align: top;\n",
       "    }\n",
       "\n",
       "    .dataframe thead th {\n",
       "        text-align: right;\n",
       "    }\n",
       "</style>\n",
       "<table border=\"1\" class=\"dataframe\">\n",
       "  <thead>\n",
       "    <tr style=\"text-align: right;\">\n",
       "      <th></th>\n",
       "      <th>Ranking_Men</th>\n",
       "      <th>Ranking_Women</th>\n",
       "    </tr>\n",
       "    <tr>\n",
       "      <th>Team</th>\n",
       "      <th></th>\n",
       "      <th></th>\n",
       "    </tr>\n",
       "  </thead>\n",
       "  <tbody>\n",
       "    <tr>\n",
       "      <th>VMI</th>\n",
       "      <td>185.0</td>\n",
       "      <td>356.0</td>\n",
       "    </tr>\n",
       "    <tr>\n",
       "      <th>Citadel</th>\n",
       "      <td>216.0</td>\n",
       "      <td>356.0</td>\n",
       "    </tr>\n",
       "    <tr>\n",
       "      <th>TN Martin</th>\n",
       "      <td>325.0</td>\n",
       "      <td>356.0</td>\n",
       "    </tr>\n",
       "    <tr>\n",
       "      <th>Princeton</th>\n",
       "      <td>348.0</td>\n",
       "      <td>58.0</td>\n",
       "    </tr>\n",
       "    <tr>\n",
       "      <th>Mid</th>\n",
       "      <td>348.0</td>\n",
       "      <td>99.0</td>\n",
       "    </tr>\n",
       "    <tr>\n",
       "      <th>Penn</th>\n",
       "      <td>348.0</td>\n",
       "      <td>108.0</td>\n",
       "    </tr>\n",
       "    <tr>\n",
       "      <th>Yale</th>\n",
       "      <td>348.0</td>\n",
       "      <td>121.0</td>\n",
       "    </tr>\n",
       "    <tr>\n",
       "      <th>Harvard</th>\n",
       "      <td>348.0</td>\n",
       "      <td>136.0</td>\n",
       "    </tr>\n",
       "    <tr>\n",
       "      <th>Columbia</th>\n",
       "      <td>348.0</td>\n",
       "      <td>144.0</td>\n",
       "    </tr>\n",
       "    <tr>\n",
       "      <th>Cornell</th>\n",
       "      <td>348.0</td>\n",
       "      <td>176.0</td>\n",
       "    </tr>\n",
       "    <tr>\n",
       "      <th>Dartmouth</th>\n",
       "      <td>348.0</td>\n",
       "      <td>210.0</td>\n",
       "    </tr>\n",
       "    <tr>\n",
       "      <th>Brown</th>\n",
       "      <td>348.0</td>\n",
       "      <td>249.0</td>\n",
       "    </tr>\n",
       "    <tr>\n",
       "      <th>Bethune-Cookman</th>\n",
       "      <td>348.0</td>\n",
       "      <td>262.0</td>\n",
       "    </tr>\n",
       "    <tr>\n",
       "      <th>MD E Shore</th>\n",
       "      <td>348.0</td>\n",
       "      <td>319.0</td>\n",
       "    </tr>\n",
       "  </tbody>\n",
       "</table>\n",
       "</div>"
      ],
      "text/plain": [
       "                 Ranking_Men  Ranking_Women\n",
       "Team                                       \n",
       "VMI                    185.0          356.0\n",
       "Citadel                216.0          356.0\n",
       "TN Martin              325.0          356.0\n",
       "Princeton              348.0           58.0\n",
       "Mid                    348.0           99.0\n",
       "Penn                   348.0          108.0\n",
       "Yale                   348.0          121.0\n",
       "Harvard                348.0          136.0\n",
       "Columbia               348.0          144.0\n",
       "Cornell                348.0          176.0\n",
       "Dartmouth              348.0          210.0\n",
       "Brown                  348.0          249.0\n",
       "Bethune-Cookman        348.0          262.0\n",
       "MD E Shore             348.0          319.0"
      ]
     },
     "execution_count": 11,
     "metadata": {},
     "output_type": "execute_result"
    }
   ],
   "source": [
    "df_combined[(df_combined.Ranking_Men == df_combined.Ranking_Men.max()) | (df_combined.Ranking_Women == df_combined.Ranking_Women.max())]"
   ]
  },
  {
   "cell_type": "markdown",
   "metadata": {},
   "source": [
    "## Rank Correlation\n",
    "\n",
    "Now that we have a combined datframe.  Let's generate a scatterplot to visulaize the relationship."
   ]
  },
  {
   "cell_type": "code",
   "execution_count": 12,
   "metadata": {},
   "outputs": [
    {
     "data": {
      "image/png": "[encoded data removed]",
      "text/plain": [
       "<Figure size 720x720 with 1 Axes>"
      ]
     },
     "metadata": {
      "needs_background": "light"
     },
     "output_type": "display_data"
    }
   ],
   "source": [
    "t = np.linspace(0,1,101)\n",
    "\n",
    "plt.figure(figsize=(10,10))\n",
    "plt.scatter(df_combined.Ranking_Men, df_combined.Ranking_Women)\n",
    "plt.plot(356*t, 356*t,'--r',alpha=0.5)\n",
    "plt.xlabel(\"Men's Team Ranking\")\n",
    "plt.ylabel(\"Women's Team Ranking\")\n",
    "plt.axis('square');"
   ]
  },
  {
   "cell_type": "markdown",
   "metadata": {},
   "source": [
    "The scatterplot shows a clear relationship between the rankings of men's teams and women's teams --- a positive correlation as we suspected.  How do we quntify what we see qualitatively?  Kendall's tau is used to measure rank correlation.  Like Pearsons coefficient of correlation (usually denoted by _r_), it is a numerical quantity taking values between -1 and 1 where +1 indicates a perfect positive correlation and -1 indicates a perfect negative correlation.  However, it is computed in very differently from Pearson's r.\n",
    "\n",
    "Tau reminds me of *hitting percentage* in volleyball which is computed as (kills - errors)/attempts.  In the case of tau, we look at rankings for pairs of observations. Consider this subset of the dataframe using three randomly chose universities:"
   ]
  },
  {
   "cell_type": "code",
   "execution_count": 13,
   "metadata": {},
   "outputs": [],
   "source": [
    "# This would truly be random:\n",
    "# df_combined.sample(3)"
   ]
  },
  {
   "cell_type": "code",
   "execution_count": 14,
   "metadata": {},
   "outputs": [
    {
     "data": {
      "text/html": [
       "<div>\n",
       "<style scoped>\n",
       "    .dataframe tbody tr th:only-of-type {\n",
       "        vertical-align: middle;\n",
       "    }\n",
       "\n",
       "    .dataframe tbody tr th {\n",
       "        vertical-align: top;\n",
       "    }\n",
       "\n",
       "    .dataframe thead th {\n",
       "        text-align: right;\n",
       "    }\n",
       "</style>\n",
       "<table border=\"1\" class=\"dataframe\">\n",
       "  <thead>\n",
       "    <tr style=\"text-align: right;\">\n",
       "      <th></th>\n",
       "      <th>Ranking_Men</th>\n",
       "      <th>Ranking_Women</th>\n",
       "    </tr>\n",
       "    <tr>\n",
       "      <th>Team</th>\n",
       "      <th></th>\n",
       "      <th></th>\n",
       "    </tr>\n",
       "  </thead>\n",
       "  <tbody>\n",
       "    <tr>\n",
       "      <th>Minnesota</th>\n",
       "      <td>51.0</td>\n",
       "      <td>89.0</td>\n",
       "    </tr>\n",
       "    <tr>\n",
       "      <th>Georgia Tech</th>\n",
       "      <td>41.0</td>\n",
       "      <td>29.0</td>\n",
       "    </tr>\n",
       "    <tr>\n",
       "      <th>Wisconsin</th>\n",
       "      <td>12.0</td>\n",
       "      <td>115.0</td>\n",
       "    </tr>\n",
       "  </tbody>\n",
       "</table>\n",
       "</div>"
      ],
      "text/plain": [
       "              Ranking_Men  Ranking_Women\n",
       "Team                                    \n",
       "Minnesota            51.0           89.0\n",
       "Georgia Tech         41.0           29.0\n",
       "Wisconsin            12.0          115.0"
      ]
     },
     "execution_count": 14,
     "metadata": {},
     "output_type": "execute_result"
    }
   ],
   "source": [
    "# Three not so random schools.\n",
    "df_combined.loc[['Minnesota', 'Georgia Tech','Wisconsin']]"
   ]
  },
  {
   "cell_type": "markdown",
   "metadata": {},
   "source": [
    "Note that Georgia Tech's teams both have better rankings than Minnesota's teams. These rankings are called *concordant* -- they are in harmony. On the other hand, Winsconsin's men have a better ranking than Georgia Tech's while the Wisconsin women's team is ranked worse than Georgia Tech women's team. Those rankings are called *discordant*.  Kendall's tau is computed by taking all pairs of observations and comparing the rankings, counting the concordant and discordant pairs.\n",
    "$$\n",
    "\\tau = \\frac{\\textrm{# concordant pairs} - \\textrm{# discordant pairs}}{\\textrm{# all pairs}}\n",
    "$$\n",
    "\n",
    "Of course there is a function in pandas that computes this for us. (The output is a dataframe; you can always extract the individual values.)"
   ]
  },
  {
   "cell_type": "code",
   "execution_count": 15,
   "metadata": {},
   "outputs": [
    {
     "data": {
      "text/html": [
       "<div>\n",
       "<style scoped>\n",
       "    .dataframe tbody tr th:only-of-type {\n",
       "        vertical-align: middle;\n",
       "    }\n",
       "\n",
       "    .dataframe tbody tr th {\n",
       "        vertical-align: top;\n",
       "    }\n",
       "\n",
       "    .dataframe thead th {\n",
       "        text-align: right;\n",
       "    }\n",
       "</style>\n",
       "<table border=\"1\" class=\"dataframe\">\n",
       "  <thead>\n",
       "    <tr style=\"text-align: right;\">\n",
       "      <th></th>\n",
       "      <th>Ranking_Men</th>\n",
       "      <th>Ranking_Women</th>\n",
       "    </tr>\n",
       "  </thead>\n",
       "  <tbody>\n",
       "    <tr>\n",
       "      <th>Ranking_Men</th>\n",
       "      <td>1.0000</td>\n",
       "      <td>0.4365</td>\n",
       "    </tr>\n",
       "    <tr>\n",
       "      <th>Ranking_Women</th>\n",
       "      <td>0.4365</td>\n",
       "      <td>1.0000</td>\n",
       "    </tr>\n",
       "  </tbody>\n",
       "</table>\n",
       "</div>"
      ],
      "text/plain": [
       "               Ranking_Men  Ranking_Women\n",
       "Ranking_Men         1.0000         0.4365\n",
       "Ranking_Women       0.4365         1.0000"
      ]
     },
     "execution_count": 15,
     "metadata": {},
     "output_type": "execute_result"
    }
   ],
   "source": [
    "df_combined[['Ranking_Men','Ranking_Women']].corr('kendall')"
   ]
  },
  {
   "cell_type": "markdown",
   "metadata": {},
   "source": [
    "## Tournament Appearances: A Binary Approach\n",
    "\n",
    "We note that there appears to be a strong cluster of points in the lowere left-hand corner of the scatterplot above."
   ]
  },
  {
   "cell_type": "code",
   "execution_count": 16,
   "metadata": {},
   "outputs": [
    {
     "data": {
      "image/png": "[encoded data removed]",
      "text/plain": [
       "<Figure size 720x720 with 1 Axes>"
      ]
     },
     "metadata": {
      "needs_background": "light"
     },
     "output_type": "display_data"
    }
   ],
   "source": [
    "t = np.linspace(0,1,101)\n",
    "\n",
    "plt.figure(figsize=(10,10))\n",
    "plt.scatter(df_combined.Ranking_Men, df_combined.Ranking_Women)\n",
    "plt.plot(68.5*np.ones(t.shape), 356*t,'--k')\n",
    "plt.plot(356*t, 64.5*np.ones(t.shape),'--k')\n",
    "plt.xlabel(\"Men's Team Ranking\")\n",
    "plt.ylabel(\"Women's Team Ranking\")\n",
    "plt.axis('square');"
   ]
  },
  {
   "cell_type": "markdown",
   "metadata": {},
   "source": [
    "Here I have drawn in a vertical line that separates the men's programs into two groups: one containing the teams with the top 68 ratings and its complement. I have also drawn a horizontal line that  separates the women's programs into two groups: one containing the teams with the top 64 ratings and its complement. Note the higher density of points in the lower left-hand portion and the relative sparsity of the lower right-hand and upper left-hand portions.\n",
    "\n",
    "Let's create new binary variables and count programs in each quadrant."
   ]
  },
  {
   "cell_type": "code",
   "execution_count": 17,
   "metadata": {},
   "outputs": [
    {
     "data": {
      "text/html": [
       "<div>\n",
       "<style scoped>\n",
       "    .dataframe tbody tr th:only-of-type {\n",
       "        vertical-align: middle;\n",
       "    }\n",
       "\n",
       "    .dataframe tbody tr th {\n",
       "        vertical-align: top;\n",
       "    }\n",
       "\n",
       "    .dataframe thead th {\n",
       "        text-align: right;\n",
       "    }\n",
       "</style>\n",
       "<table border=\"1\" class=\"dataframe\">\n",
       "  <thead>\n",
       "    <tr style=\"text-align: right;\">\n",
       "      <th>Top_68_Mens_Team</th>\n",
       "      <th>False</th>\n",
       "      <th>True</th>\n",
       "    </tr>\n",
       "    <tr>\n",
       "      <th>Top_64_Womens_Team</th>\n",
       "      <th></th>\n",
       "      <th></th>\n",
       "    </tr>\n",
       "  </thead>\n",
       "  <tbody>\n",
       "    <tr>\n",
       "      <th>False</th>\n",
       "      <td>269</td>\n",
       "      <td>25</td>\n",
       "    </tr>\n",
       "    <tr>\n",
       "      <th>True</th>\n",
       "      <td>21</td>\n",
       "      <td>43</td>\n",
       "    </tr>\n",
       "  </tbody>\n",
       "</table>\n",
       "</div>"
      ],
      "text/plain": [
       "Top_68_Mens_Team    False  True \n",
       "Top_64_Womens_Team              \n",
       "False                 269     25\n",
       "True                   21     43"
      ]
     },
     "execution_count": 17,
     "metadata": {},
     "output_type": "execute_result"
    }
   ],
   "source": [
    "df_combined['Top_64_Womens_Team'] = (df_combined.Ranking_Women < 65)\n",
    "df_combined['Top_68_Mens_Team'] = (df_combined.Ranking_Men < 69)\n",
    "df_combined.pivot_table(index ='Top_64_Womens_Team',columns='Top_68_Mens_Team',values='Ranking_Men', aggfunc='count')"
   ]
  },
  {
   "cell_type": "markdown",
   "metadata": {},
   "source": [
    "We see that 43 schools have teams with high ranks. Of course the top-ranked teams do not necessarily get into the tournament, but we will avoid any discussion of team selection for now.  Instead, let's import lists of schools that actually made the tournament."
   ]
  },
  {
   "cell_type": "code",
   "execution_count": 18,
   "metadata": {},
   "outputs": [],
   "source": [
    "df_womens_field = pd.read_csv('tournament_women.csv')\n",
    "df_womens_field['Womens_Field'] = True\n",
    "df_mens_field = pd.read_csv('tournament_men.csv')\n",
    "df_mens_field['Mens_Field'] = True"
   ]
  },
  {
   "cell_type": "code",
   "execution_count": 19,
   "metadata": {},
   "outputs": [],
   "source": [
    "df_combined_plus = df_combined.merge(df_womens_field,on='Team',how='outer')\\\n",
    ".merge(df_mens_field,on='Team',how='outer')\\\n",
    ".fillna(False)"
   ]
  },
  {
   "cell_type": "markdown",
   "metadata": {},
   "source": [
    "Now we can compare the women's field to the men's field."
   ]
  },
  {
   "cell_type": "code",
   "execution_count": 20,
   "metadata": {},
   "outputs": [
    {
     "data": {
      "text/html": [
       "<div>\n",
       "<style scoped>\n",
       "    .dataframe tbody tr th:only-of-type {\n",
       "        vertical-align: middle;\n",
       "    }\n",
       "\n",
       "    .dataframe tbody tr th {\n",
       "        vertical-align: top;\n",
       "    }\n",
       "\n",
       "    .dataframe thead th {\n",
       "        text-align: right;\n",
       "    }\n",
       "</style>\n",
       "<table border=\"1\" class=\"dataframe\">\n",
       "  <thead>\n",
       "    <tr style=\"text-align: right;\">\n",
       "      <th>Mens_Field</th>\n",
       "      <th>False</th>\n",
       "      <th>True</th>\n",
       "    </tr>\n",
       "    <tr>\n",
       "      <th>Womens_Field</th>\n",
       "      <th></th>\n",
       "      <th></th>\n",
       "    </tr>\n",
       "  </thead>\n",
       "  <tbody>\n",
       "    <tr>\n",
       "      <th>False</th>\n",
       "      <td>251</td>\n",
       "      <td>43</td>\n",
       "    </tr>\n",
       "    <tr>\n",
       "      <th>True</th>\n",
       "      <td>39</td>\n",
       "      <td>25</td>\n",
       "    </tr>\n",
       "  </tbody>\n",
       "</table>\n",
       "</div>"
      ],
      "text/plain": [
       "Mens_Field    False  True \n",
       "Womens_Field              \n",
       "False           251     43\n",
       "True             39     25"
      ]
     },
     "execution_count": 20,
     "metadata": {},
     "output_type": "execute_result"
    }
   ],
   "source": [
    "df_combined_plus.pivot_table(index ='Womens_Field',columns='Mens_Field',values='Ranking_Men', aggfunc='count')"
   ]
  },
  {
   "cell_type": "markdown",
   "metadata": {},
   "source": [
    "We see that 25 schools with teams in the women's field also have teams in the men's field. So as a predictor, the variable `Womens_Field` (having a team in the women's tournament) predicts `Mens_Field` (having a team in the men's tournament) with a *recall* of 25/68 and a *precision* of 25/64.\n",
    "\n",
    "From a stats perspective, we can compute the chi-squared statistic. Here we see that the Chi-squared value is 18.7 for 1 degree of freedom, and the p-value is extremely \n",
    "small at 1.5e-05.  See the documentation at [scipy.stats.chi2_contingency](https://docs.scipy.org/doc/scipy/reference/generated/scipy.stats.chi2_contingency.html) for details."
   ]
  },
  {
   "cell_type": "code",
   "execution_count": 21,
   "metadata": {},
   "outputs": [
    {
     "data": {
      "text/plain": [
       "(18.84069047338763,\n",
       " 1.4210296580948978e-05,\n",
       " 1,\n",
       " array([[238.15642458,  55.84357542],\n",
       "        [ 51.84357542,  12.15642458]]))"
      ]
     },
     "execution_count": 21,
     "metadata": {},
     "output_type": "execute_result"
    }
   ],
   "source": [
    "from scipy.stats import chi2_contingency\n",
    "chi2_contingency(df_combined_plus.pivot_table(index ='Womens_Field',columns='Mens_Field',values='Ranking_Men', aggfunc='count').values)"
   ]
  },
  {
   "cell_type": "markdown",
   "metadata": {},
   "source": [
    "### Do the best teams make the tournaments?\n",
    "\n",
    "You can also examine the contingency tables showing what fraction of the top-ranked teams also made the tournaments.  How you interpret this is a matter of perspective. A full 70% of the top-ranked men's teams and 67% of the top-ranked women's teams make the tournament, and that seems pretty good ... unless you are a fan of one of the 20 men's or 21 women's teams that did not."
   ]
  },
  {
   "cell_type": "code",
   "execution_count": 22,
   "metadata": {},
   "outputs": [
    {
     "data": {
      "text/html": [
       "<div>\n",
       "<style scoped>\n",
       "    .dataframe tbody tr th:only-of-type {\n",
       "        vertical-align: middle;\n",
       "    }\n",
       "\n",
       "    .dataframe tbody tr th {\n",
       "        vertical-align: top;\n",
       "    }\n",
       "\n",
       "    .dataframe thead th {\n",
       "        text-align: right;\n",
       "    }\n",
       "</style>\n",
       "<table border=\"1\" class=\"dataframe\">\n",
       "  <thead>\n",
       "    <tr style=\"text-align: right;\">\n",
       "      <th>Mens_Field</th>\n",
       "      <th>False</th>\n",
       "      <th>True</th>\n",
       "    </tr>\n",
       "    <tr>\n",
       "      <th>Top_68_Mens_Team</th>\n",
       "      <th></th>\n",
       "      <th></th>\n",
       "    </tr>\n",
       "  </thead>\n",
       "  <tbody>\n",
       "    <tr>\n",
       "      <th>False</th>\n",
       "      <td>270</td>\n",
       "      <td>20</td>\n",
       "    </tr>\n",
       "    <tr>\n",
       "      <th>True</th>\n",
       "      <td>20</td>\n",
       "      <td>48</td>\n",
       "    </tr>\n",
       "  </tbody>\n",
       "</table>\n",
       "</div>"
      ],
      "text/plain": [
       "Mens_Field        False  True \n",
       "Top_68_Mens_Team              \n",
       "False               270     20\n",
       "True                 20     48"
      ]
     },
     "execution_count": 22,
     "metadata": {},
     "output_type": "execute_result"
    }
   ],
   "source": [
    "df_combined_plus.pivot_table(index ='Top_68_Mens_Team',columns='Mens_Field',values='Ranking_Men', aggfunc='count')"
   ]
  },
  {
   "cell_type": "code",
   "execution_count": 23,
   "metadata": {},
   "outputs": [
    {
     "data": {
      "text/html": [
       "<div>\n",
       "<style scoped>\n",
       "    .dataframe tbody tr th:only-of-type {\n",
       "        vertical-align: middle;\n",
       "    }\n",
       "\n",
       "    .dataframe tbody tr th {\n",
       "        vertical-align: top;\n",
       "    }\n",
       "\n",
       "    .dataframe thead th {\n",
       "        text-align: right;\n",
       "    }\n",
       "</style>\n",
       "<table border=\"1\" class=\"dataframe\">\n",
       "  <thead>\n",
       "    <tr style=\"text-align: right;\">\n",
       "      <th>Womens_Field</th>\n",
       "      <th>False</th>\n",
       "      <th>True</th>\n",
       "    </tr>\n",
       "    <tr>\n",
       "      <th>Top_64_Womens_Team</th>\n",
       "      <th></th>\n",
       "      <th></th>\n",
       "    </tr>\n",
       "  </thead>\n",
       "  <tbody>\n",
       "    <tr>\n",
       "      <th>False</th>\n",
       "      <td>273</td>\n",
       "      <td>21</td>\n",
       "    </tr>\n",
       "    <tr>\n",
       "      <th>True</th>\n",
       "      <td>21</td>\n",
       "      <td>43</td>\n",
       "    </tr>\n",
       "  </tbody>\n",
       "</table>\n",
       "</div>"
      ],
      "text/plain": [
       "Womens_Field        False  True \n",
       "Top_64_Womens_Team              \n",
       "False                 273     21\n",
       "True                   21     43"
      ]
     },
     "execution_count": 23,
     "metadata": {},
     "output_type": "execute_result"
    }
   ],
   "source": [
    "df_combined_plus.pivot_table(index ='Top_64_Womens_Team',columns='Womens_Field',values='Ranking_Women', aggfunc='count')"
   ]
  },
  {
   "cell_type": "markdown",
   "metadata": {},
   "source": [
    "### How were the teams ranked?\n",
    "Here are some additional `groupby` objects, plots and ROC Curves (for good measure) showing the distribution of the rankings for team's that made the tournament versus those that did not."
   ]
  },
  {
   "cell_type": "code",
   "execution_count": 24,
   "metadata": {},
   "outputs": [
    {
     "data": {
      "text/html": [
       "<div>\n",
       "<style scoped>\n",
       "    .dataframe tbody tr th:only-of-type {\n",
       "        vertical-align: middle;\n",
       "    }\n",
       "\n",
       "    .dataframe tbody tr th {\n",
       "        vertical-align: top;\n",
       "    }\n",
       "\n",
       "    .dataframe thead th {\n",
       "        text-align: right;\n",
       "    }\n",
       "</style>\n",
       "<table border=\"1\" class=\"dataframe\">\n",
       "  <thead>\n",
       "    <tr style=\"text-align: right;\">\n",
       "      <th></th>\n",
       "      <th>count</th>\n",
       "      <th>mean</th>\n",
       "      <th>std</th>\n",
       "      <th>min</th>\n",
       "      <th>25%</th>\n",
       "      <th>50%</th>\n",
       "      <th>75%</th>\n",
       "      <th>max</th>\n",
       "    </tr>\n",
       "    <tr>\n",
       "      <th>Mens_Field</th>\n",
       "      <th></th>\n",
       "      <th></th>\n",
       "      <th></th>\n",
       "      <th></th>\n",
       "      <th></th>\n",
       "      <th></th>\n",
       "      <th></th>\n",
       "      <th></th>\n",
       "    </tr>\n",
       "  </thead>\n",
       "  <tbody>\n",
       "    <tr>\n",
       "      <th>False</th>\n",
       "      <td>290.0</td>\n",
       "      <td>207.606897</td>\n",
       "      <td>90.124120</td>\n",
       "      <td>36.0</td>\n",
       "      <td>132.25</td>\n",
       "      <td>211.5</td>\n",
       "      <td>285.75</td>\n",
       "      <td>348.0</td>\n",
       "    </tr>\n",
       "    <tr>\n",
       "      <th>True</th>\n",
       "      <td>68.0</td>\n",
       "      <td>58.823529</td>\n",
       "      <td>59.585369</td>\n",
       "      <td>1.0</td>\n",
       "      <td>17.75</td>\n",
       "      <td>34.5</td>\n",
       "      <td>80.25</td>\n",
       "      <td>236.0</td>\n",
       "    </tr>\n",
       "  </tbody>\n",
       "</table>\n",
       "</div>"
      ],
      "text/plain": [
       "            count        mean        std   min     25%    50%     75%    max\n",
       "Mens_Field                                                                  \n",
       "False       290.0  207.606897  90.124120  36.0  132.25  211.5  285.75  348.0\n",
       "True         68.0   58.823529  59.585369   1.0   17.75   34.5   80.25  236.0"
      ]
     },
     "execution_count": 24,
     "metadata": {},
     "output_type": "execute_result"
    }
   ],
   "source": [
    "df_combined_plus.groupby('Mens_Field').Ranking_Men.describe()"
   ]
  },
  {
   "cell_type": "code",
   "execution_count": 25,
   "metadata": {},
   "outputs": [
    {
     "data": {
      "text/html": [
       "<div>\n",
       "<style scoped>\n",
       "    .dataframe tbody tr th:only-of-type {\n",
       "        vertical-align: middle;\n",
       "    }\n",
       "\n",
       "    .dataframe tbody tr th {\n",
       "        vertical-align: top;\n",
       "    }\n",
       "\n",
       "    .dataframe thead th {\n",
       "        text-align: right;\n",
       "    }\n",
       "</style>\n",
       "<table border=\"1\" class=\"dataframe\">\n",
       "  <thead>\n",
       "    <tr style=\"text-align: right;\">\n",
       "      <th></th>\n",
       "      <th>Team</th>\n",
       "      <th>Ranking_Men</th>\n",
       "      <th>Ranking_Women</th>\n",
       "      <th>Top_64_Womens_Team</th>\n",
       "      <th>Top_68_Mens_Team</th>\n",
       "      <th>Womens_Field</th>\n",
       "      <th>Mens_Field</th>\n",
       "    </tr>\n",
       "  </thead>\n",
       "  <tbody>\n",
       "    <tr>\n",
       "      <th>235</th>\n",
       "      <td>Mt St Mary's</td>\n",
       "      <td>236.0</td>\n",
       "      <td>232.0</td>\n",
       "      <td>False</td>\n",
       "      <td>False</td>\n",
       "      <td>True</td>\n",
       "      <td>True</td>\n",
       "    </tr>\n",
       "  </tbody>\n",
       "</table>\n",
       "</div>"
      ],
      "text/plain": [
       "             Team  Ranking_Men  Ranking_Women  Top_64_Womens_Team  \\\n",
       "235  Mt St Mary's        236.0          232.0               False   \n",
       "\n",
       "     Top_68_Mens_Team  Womens_Field  Mens_Field  \n",
       "235             False          True        True  "
      ]
     },
     "execution_count": 25,
     "metadata": {},
     "output_type": "execute_result"
    }
   ],
   "source": [
    "df_combined_plus[df_combined_plus.Ranking_Men==236]"
   ]
  },
  {
   "cell_type": "code",
   "execution_count": 26,
   "metadata": {},
   "outputs": [
    {
     "data": {
      "image/png": "[encoded data removed]",
      "text/plain": [
       "<Figure size 576x360 with 1 Axes>"
      ]
     },
     "metadata": {
      "needs_background": "light"
     },
     "output_type": "display_data"
    }
   ],
   "source": [
    "plt.figure(figsize=(8,5))\n",
    "df_combined_plus.groupby('Mens_Field').apply(lambda x: sns.distplot(x.Ranking_Men,kde=True,bins=16));\n",
    "plt.legend(['Done for the Season','Tournament Teams']);\n",
    "plt.xlabel(\"Men's Ranking\")\n",
    "plt.title(\"The Difference in Ranking between Tournament Teams and the Rest\");"
   ]
  },
  {
   "cell_type": "code",
   "execution_count": 27,
   "metadata": {},
   "outputs": [
    {
     "data": {
      "text/html": [
       "<div>\n",
       "<style scoped>\n",
       "    .dataframe tbody tr th:only-of-type {\n",
       "        vertical-align: middle;\n",
       "    }\n",
       "\n",
       "    .dataframe tbody tr th {\n",
       "        vertical-align: top;\n",
       "    }\n",
       "\n",
       "    .dataframe thead th {\n",
       "        text-align: right;\n",
       "    }\n",
       "</style>\n",
       "<table border=\"1\" class=\"dataframe\">\n",
       "  <thead>\n",
       "    <tr style=\"text-align: right;\">\n",
       "      <th></th>\n",
       "      <th>count</th>\n",
       "      <th>mean</th>\n",
       "      <th>std</th>\n",
       "      <th>min</th>\n",
       "      <th>25%</th>\n",
       "      <th>50%</th>\n",
       "      <th>75%</th>\n",
       "      <th>max</th>\n",
       "    </tr>\n",
       "    <tr>\n",
       "      <th>Womens_Field</th>\n",
       "      <th></th>\n",
       "      <th></th>\n",
       "      <th></th>\n",
       "      <th></th>\n",
       "      <th></th>\n",
       "      <th></th>\n",
       "      <th></th>\n",
       "      <th></th>\n",
       "    </tr>\n",
       "  </thead>\n",
       "  <tbody>\n",
       "    <tr>\n",
       "      <th>False</th>\n",
       "      <td>294.0</td>\n",
       "      <td>205.404762</td>\n",
       "      <td>91.963579</td>\n",
       "      <td>19.0</td>\n",
       "      <td>129.50</td>\n",
       "      <td>208.5</td>\n",
       "      <td>284.75</td>\n",
       "      <td>356.0</td>\n",
       "    </tr>\n",
       "    <tr>\n",
       "      <th>True</th>\n",
       "      <td>64.0</td>\n",
       "      <td>60.453125</td>\n",
       "      <td>61.742921</td>\n",
       "      <td>1.0</td>\n",
       "      <td>16.75</td>\n",
       "      <td>34.5</td>\n",
       "      <td>90.50</td>\n",
       "      <td>234.0</td>\n",
       "    </tr>\n",
       "  </tbody>\n",
       "</table>\n",
       "</div>"
      ],
      "text/plain": [
       "              count        mean        std   min     25%    50%     75%    max\n",
       "Womens_Field                                                                  \n",
       "False         294.0  205.404762  91.963579  19.0  129.50  208.5  284.75  356.0\n",
       "True           64.0   60.453125  61.742921   1.0   16.75   34.5   90.50  234.0"
      ]
     },
     "execution_count": 27,
     "metadata": {},
     "output_type": "execute_result"
    }
   ],
   "source": [
    "df_combined_plus.groupby('Womens_Field').Ranking_Women.describe()"
   ]
  },
  {
   "cell_type": "code",
   "execution_count": 28,
   "metadata": {},
   "outputs": [
    {
     "data": {
      "text/html": [
       "<div>\n",
       "<style scoped>\n",
       "    .dataframe tbody tr th:only-of-type {\n",
       "        vertical-align: middle;\n",
       "    }\n",
       "\n",
       "    .dataframe tbody tr th {\n",
       "        vertical-align: top;\n",
       "    }\n",
       "\n",
       "    .dataframe thead th {\n",
       "        text-align: right;\n",
       "    }\n",
       "</style>\n",
       "<table border=\"1\" class=\"dataframe\">\n",
       "  <thead>\n",
       "    <tr style=\"text-align: right;\">\n",
       "      <th></th>\n",
       "      <th>Team</th>\n",
       "      <th>Ranking_Men</th>\n",
       "      <th>Ranking_Women</th>\n",
       "      <th>Top_64_Womens_Team</th>\n",
       "      <th>Top_68_Mens_Team</th>\n",
       "      <th>Womens_Field</th>\n",
       "      <th>Mens_Field</th>\n",
       "    </tr>\n",
       "  </thead>\n",
       "  <tbody>\n",
       "    <tr>\n",
       "      <th>207</th>\n",
       "      <td>Utah Valley</td>\n",
       "      <td>208.0</td>\n",
       "      <td>234.0</td>\n",
       "      <td>False</td>\n",
       "      <td>False</td>\n",
       "      <td>True</td>\n",
       "      <td>False</td>\n",
       "    </tr>\n",
       "  </tbody>\n",
       "</table>\n",
       "</div>"
      ],
      "text/plain": [
       "            Team  Ranking_Men  Ranking_Women  Top_64_Womens_Team  \\\n",
       "207  Utah Valley        208.0          234.0               False   \n",
       "\n",
       "     Top_68_Mens_Team  Womens_Field  Mens_Field  \n",
       "207             False          True       False  "
      ]
     },
     "execution_count": 28,
     "metadata": {},
     "output_type": "execute_result"
    }
   ],
   "source": [
    "df_combined_plus[df_combined_plus.Ranking_Women==234]"
   ]
  },
  {
   "cell_type": "code",
   "execution_count": 29,
   "metadata": {},
   "outputs": [
    {
     "data": {
      "image/png": "[encoded data removed]",
      "text/plain": [
       "<Figure size 576x360 with 1 Axes>"
      ]
     },
     "metadata": {
      "needs_background": "light"
     },
     "output_type": "display_data"
    }
   ],
   "source": [
    "plt.figure(figsize=(8,5))\n",
    "df_combined_plus.groupby('Womens_Field').apply(lambda x: sns.distplot(x.Ranking_Women,kde=True,bins=16));\n",
    "plt.legend(['Done for the Season','Tournament Teams']);\n",
    "plt.xlabel(\"Women's Ranking\")\n",
    "plt.title(\"The Difference in Ranking between Tournament Teams and the Rest\");"
   ]
  },
  {
   "cell_type": "markdown",
   "metadata": {},
   "source": [
    "## How should we use Rankings to assess the likelihood of making the tournament?\n",
    "\n",
    "A team's ranking should tell us how likely they are to make the tournament.  Consider the ROC Curves.  The Youden Index is the point at which the ROC curve is the highest above the digonal line where the True Positive Rate equals the False Positive Rate (y=x).  We can compute the value of the Youden Index and find the corresponding values of the ranking as well as the TPR and FPR.  \n",
    "\n",
    "The Youden Index is also the point at which the \"slope\" of the ROC curve is approximately 1, or where you are accumulating as many false positives as true positives as you vary the underlying parameter -- in this case the ranking.  This might be the best choice of the threshold ranking for predicting who makes the tournament, but there might be others. One needs to assess the recall and precision values as well depending upon your objectives."
   ]
  },
  {
   "cell_type": "code",
   "execution_count": 30,
   "metadata": {},
   "outputs": [
    {
     "data": {
      "image/png": "[encoded data removed]",
      "text/plain": [
       "<Figure size 432x432 with 1 Axes>"
      ]
     },
     "metadata": {
      "needs_background": "light"
     },
     "output_type": "display_data"
    }
   ],
   "source": [
    "tp = df_combined_plus.sort_values('Ranking_Men').Mens_Field.cumsum()\n",
    "fp = (1 - df_combined_plus.sort_values('Ranking_Men').Mens_Field).cumsum()\n",
    "tpr = np.array(tp/df_combined_plus.Mens_Field.sum())\n",
    "fpr = np.array(fp/(1 - df_combined_plus.Mens_Field).sum())\n",
    "\n",
    "y = (tpr[:-1] + tpr[1:])/2\n",
    "delta_x = np.diff(fpr)\n",
    "auc = (y*delta_x).sum()\n",
    "youden = tpr - fpr\n",
    "youden_idx = list(youden).index(youden.max())\n",
    "\n",
    "tpr_youden = tpr[youden_idx]\n",
    "fpr_youden = fpr[youden_idx]\n",
    "\n",
    "plt.figure(figsize=(6,6))\n",
    "plt.plot(fpr,tpr);\n",
    "plt.plot(fpr,fpr,'--k');\n",
    "plt.plot([fpr_youden,fpr_youden],[fpr_youden,tpr_youden],'--r');\n",
    "\n",
    "plt.text(.4, .8,f'AUC = {auc:.3f}')\n",
    "plt.text(0.25,0.05, f'Teams with rank <= {youden_idx+1:.0f} had\\n' +\\\n",
    "         f'a {tpr_youden:.2f} chance of making the tournament\\n' + \\\n",
    "         f'a {fpr_youden:.2f} chance of not making the tournament')\n",
    "plt.xlabel('False Positive Rate')\n",
    "plt.ylabel('True Positive Rate')\n",
    "plt.title('ROC Curve for NCAA Men')\n",
    "plt.axis('square');"
   ]
  },
  {
   "cell_type": "code",
   "execution_count": 31,
   "metadata": {},
   "outputs": [
    {
     "data": {
      "image/png": "[encoded data removed]",
      "text/plain": [
       "<Figure size 432x432 with 1 Axes>"
      ]
     },
     "metadata": {
      "needs_background": "light"
     },
     "output_type": "display_data"
    }
   ],
   "source": [
    "tp = df_combined_plus.sort_values('Ranking_Women').Womens_Field.cumsum()\n",
    "fp = (1 - df_combined_plus.sort_values('Ranking_Women').Womens_Field).cumsum()\n",
    "tpr = np.array(tp/df_combined_plus.Womens_Field.sum())\n",
    "fpr = np.array(fp/(1 - df_combined_plus.Womens_Field).sum())\n",
    "\n",
    "y = (tpr[:-1] + tpr[1:])/2\n",
    "delta_x = np.diff(fpr)\n",
    "auc = (y*delta_x).sum()\n",
    "youden = tpr - fpr\n",
    "youden_idx = list(youden).index(youden.max())\n",
    "\n",
    "tpr_youden = tpr[youden_idx]\n",
    "fpr_youden = fpr[youden_idx]\n",
    "\n",
    "plt.figure(figsize=(6,6))\n",
    "plt.plot(fpr,tpr);\n",
    "plt.plot(fpr,fpr,'--k');\n",
    "plt.plot([fpr_youden,fpr_youden],[fpr_youden,tpr_youden],'--r');\n",
    "\n",
    "plt.text(.4, .8,f'AUC = {auc:.3f}')\n",
    "plt.text(0.25,0.05, f'Teams with rank <= {youden_idx+1:.0f} had\\n' +\\\n",
    "         f'a {tpr_youden:.2f} chance of making the tournament\\n' + \\\n",
    "         f'a {fpr_youden:.2f} chance of not making the tournament')\n",
    "plt.xlabel('False Positive Rate')\n",
    "plt.ylabel('True Positive Rate')\n",
    "plt.title('ROC Curve for NCAA Women')\n",
    "plt.axis('square');"
   ]
  },
  {
   "cell_type": "code",
   "execution_count": null,
   "metadata": {},
   "outputs": [],
   "source": []
  }
 ],
 "metadata": {
  "kernelspec": {
   "display_name": "Python 3",
   "language": "python",
   "name": "python3"
  },
  "language_info": {
   "codemirror_mode": {
    "name": "ipython",
    "version": 3
   },
   "file_extension": ".py",
   "mimetype": "text/x-python",
   "name": "python",
   "nbconvert_exporter": "python",
   "pygments_lexer": "ipython3",
   "version": "3.7.7"
  }
 },
 "nbformat": 4,
 "nbformat_minor": 4
}
